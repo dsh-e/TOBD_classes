{
  "nbformat": 4,
  "nbformat_minor": 0,
  "metadata": {
    "kernelspec": {
      "display_name": "Python 3",
      "language": "python",
      "name": "python3"
    },
    "language_info": {
      "codemirror_mode": {
        "name": "ipython",
        "version": 3
      },
      "file_extension": ".py",
      "mimetype": "text/x-python",
      "name": "python",
      "nbconvert_exporter": "python",
      "pygments_lexer": "ipython3",
      "version": "3.8.10"
    },
    "colab": {
      "name": "ТОБД_лаб3_Ермолина_ПМ18-4.ipynb",
      "provenance": [],
      "collapsed_sections": []
    }
  },
  "cells": [
    {
      "cell_type": "code",
      "metadata": {
        "collapsed": true,
        "id": "mLXtM243SfSN"
      },
      "source": [
        "import pandas as pd\n",
        "import numpy as np"
      ],
      "execution_count": null,
      "outputs": []
    },
    {
      "cell_type": "markdown",
      "metadata": {
        "id": "aZQUS3FISfST"
      },
      "source": [
        "1) Задание: загрузить данные из файлов (приложены к письму):\n",
        "* excel-comp-data.xlsx\n",
        "* sp500hst.txt "
      ]
    },
    {
      "cell_type": "code",
      "metadata": {
        "colab": {
          "base_uri": "https://localhost:8080/"
        },
        "id": "YZbqs3z5S-iG",
        "outputId": "6d580675-3c4d-452a-d35b-e6ed0ea42a19"
      },
      "source": [
        "from google.colab import drive\n",
        "drive.mount('/content/drive')"
      ],
      "execution_count": null,
      "outputs": [
        {
          "output_type": "stream",
          "name": "stdout",
          "text": [
            "Drive already mounted at /content/drive; to attempt to forcibly remount, call drive.mount(\"/content/drive\", force_remount=True).\n"
          ]
        }
      ]
    },
    {
      "cell_type": "code",
      "metadata": {
        "colab": {
          "base_uri": "https://localhost:8080/",
          "height": 80
        },
        "id": "i8nMkTuJTHDa",
        "outputId": "0091bd8b-716a-4a8b-e018-917484ef29c6"
      },
      "source": [
        "data1 = pd.read_excel('/content/drive/MyDrive/контент по финашке/7ой семестр/ТОБД/excel-comp-data.xlsx')\n",
        "data1.head(1)"
      ],
      "execution_count": null,
      "outputs": [
        {
          "output_type": "execute_result",
          "data": {
            "text/html": [
              "<div>\n",
              "<style scoped>\n",
              "    .dataframe tbody tr th:only-of-type {\n",
              "        vertical-align: middle;\n",
              "    }\n",
              "\n",
              "    .dataframe tbody tr th {\n",
              "        vertical-align: top;\n",
              "    }\n",
              "\n",
              "    .dataframe thead th {\n",
              "        text-align: right;\n",
              "    }\n",
              "</style>\n",
              "<table border=\"1\" class=\"dataframe\">\n",
              "  <thead>\n",
              "    <tr style=\"text-align: right;\">\n",
              "      <th></th>\n",
              "      <th>account</th>\n",
              "      <th>name</th>\n",
              "      <th>street</th>\n",
              "      <th>city</th>\n",
              "      <th>state</th>\n",
              "      <th>postal-code</th>\n",
              "      <th>Jan</th>\n",
              "      <th>Feb</th>\n",
              "      <th>Mar</th>\n",
              "    </tr>\n",
              "  </thead>\n",
              "  <tbody>\n",
              "    <tr>\n",
              "      <th>0</th>\n",
              "      <td>211829</td>\n",
              "      <td>Kerluke, Koepp and Hilpert</td>\n",
              "      <td>34456 Sean Highway</td>\n",
              "      <td>New Jaycob</td>\n",
              "      <td>Texas</td>\n",
              "      <td>28752</td>\n",
              "      <td>10000</td>\n",
              "      <td>62000</td>\n",
              "      <td>35000</td>\n",
              "    </tr>\n",
              "  </tbody>\n",
              "</table>\n",
              "</div>"
            ],
            "text/plain": [
              "   account                        name              street  ...    Jan    Feb    Mar\n",
              "0   211829  Kerluke, Koepp and Hilpert  34456 Sean Highway  ...  10000  62000  35000\n",
              "\n",
              "[1 rows x 9 columns]"
            ]
          },
          "metadata": {},
          "execution_count": 88
        }
      ]
    },
    {
      "cell_type": "markdown",
      "metadata": {
        "id": "IZmFc9KGSfSa"
      },
      "source": [
        "2) Загрузить данные из файла sp500hst.txt, обозначить столбцы (в соответствии с содержимым). "
      ]
    },
    {
      "cell_type": "code",
      "metadata": {
        "colab": {
          "base_uri": "https://localhost:8080/",
          "height": 80
        },
        "id": "VUAF7OMqSt9c",
        "outputId": "6bf55466-7066-4b02-ab08-09d0160e7d6e"
      },
      "source": [
        "names = ['date', 'ticker', 'open', 'high', 'low', 'close', 'volume']\n",
        "data2 = pd.read_csv('/content/drive/MyDrive/контент по финашке/7ой семестр/ТОБД/sp500hst.txt', header = None, names = names)\n",
        "data2.head(1)"
      ],
      "execution_count": null,
      "outputs": [
        {
          "output_type": "execute_result",
          "data": {
            "text/html": [
              "<div>\n",
              "<style scoped>\n",
              "    .dataframe tbody tr th:only-of-type {\n",
              "        vertical-align: middle;\n",
              "    }\n",
              "\n",
              "    .dataframe tbody tr th {\n",
              "        vertical-align: top;\n",
              "    }\n",
              "\n",
              "    .dataframe thead th {\n",
              "        text-align: right;\n",
              "    }\n",
              "</style>\n",
              "<table border=\"1\" class=\"dataframe\">\n",
              "  <thead>\n",
              "    <tr style=\"text-align: right;\">\n",
              "      <th></th>\n",
              "      <th>date</th>\n",
              "      <th>ticker</th>\n",
              "      <th>open</th>\n",
              "      <th>high</th>\n",
              "      <th>low</th>\n",
              "      <th>close</th>\n",
              "      <th>volume</th>\n",
              "    </tr>\n",
              "  </thead>\n",
              "  <tbody>\n",
              "    <tr>\n",
              "      <th>0</th>\n",
              "      <td>20090821</td>\n",
              "      <td>A</td>\n",
              "      <td>25.6</td>\n",
              "      <td>25.61</td>\n",
              "      <td>25.22</td>\n",
              "      <td>25.55</td>\n",
              "      <td>34758</td>\n",
              "    </tr>\n",
              "  </tbody>\n",
              "</table>\n",
              "</div>"
            ],
            "text/plain": [
              "       date ticker  open   high    low  close  volume\n",
              "0  20090821      A  25.6  25.61  25.22  25.55   34758"
            ]
          },
          "metadata": {},
          "execution_count": 89
        }
      ]
    },
    {
      "cell_type": "markdown",
      "metadata": {
        "id": "CaP41LmCSfSb"
      },
      "source": [
        "3.1) Создать столбец со значеними средними, между значением дневного минимума и максимума."
      ]
    },
    {
      "cell_type": "code",
      "metadata": {
        "colab": {
          "base_uri": "https://localhost:8080/",
          "height": 80
        },
        "id": "9_3qwEhkUzNz",
        "outputId": "9b56b750-e840-42b1-fb50-3fcb5c20cff0"
      },
      "source": [
        "data2 = data2.assign(mean_value = (data2.high + data2.low)/2)\n",
        "data2.head(1)"
      ],
      "execution_count": null,
      "outputs": [
        {
          "output_type": "execute_result",
          "data": {
            "text/html": [
              "<div>\n",
              "<style scoped>\n",
              "    .dataframe tbody tr th:only-of-type {\n",
              "        vertical-align: middle;\n",
              "    }\n",
              "\n",
              "    .dataframe tbody tr th {\n",
              "        vertical-align: top;\n",
              "    }\n",
              "\n",
              "    .dataframe thead th {\n",
              "        text-align: right;\n",
              "    }\n",
              "</style>\n",
              "<table border=\"1\" class=\"dataframe\">\n",
              "  <thead>\n",
              "    <tr style=\"text-align: right;\">\n",
              "      <th></th>\n",
              "      <th>date</th>\n",
              "      <th>ticker</th>\n",
              "      <th>open</th>\n",
              "      <th>high</th>\n",
              "      <th>low</th>\n",
              "      <th>close</th>\n",
              "      <th>volume</th>\n",
              "      <th>mean_value</th>\n",
              "    </tr>\n",
              "  </thead>\n",
              "  <tbody>\n",
              "    <tr>\n",
              "      <th>0</th>\n",
              "      <td>20090821</td>\n",
              "      <td>A</td>\n",
              "      <td>25.6</td>\n",
              "      <td>25.61</td>\n",
              "      <td>25.22</td>\n",
              "      <td>25.55</td>\n",
              "      <td>34758</td>\n",
              "      <td>25.415</td>\n",
              "    </tr>\n",
              "  </tbody>\n",
              "</table>\n",
              "</div>"
            ],
            "text/plain": [
              "       date ticker  open   high    low  close  volume  mean_value\n",
              "0  20090821      A  25.6  25.61  25.22  25.55   34758      25.415"
            ]
          },
          "metadata": {},
          "execution_count": 90
        }
      ]
    },
    {
      "cell_type": "markdown",
      "metadata": {
        "id": "-jQGc4dxSfSc"
      },
      "source": [
        "3.2) Рассчитать среднее значение показателей для каждого из столбцов 3-6."
      ]
    },
    {
      "cell_type": "code",
      "metadata": {
        "colab": {
          "base_uri": "https://localhost:8080/"
        },
        "id": "l3x7kNYwWdIZ",
        "outputId": "d6db0b53-c864-41c4-8036-48f129b68a64"
      },
      "source": [
        "for i in names[2:6]:\n",
        "  print(f'Среднее значение по столбцу {i}: : {data2[i].mean()}')\n"
      ],
      "execution_count": null,
      "outputs": [
        {
          "output_type": "stream",
          "name": "stdout",
          "text": [
            "Среднее значение по столбцу open: : 42.5954576590471\n",
            "Среднее значение по столбцу high: : 43.10224338767034\n",
            "Среднее значение по столбцу low: : 42.054463665213184\n",
            "Среднее значение по столбцу close: : 42.60186484817329\n"
          ]
        }
      ]
    },
    {
      "cell_type": "markdown",
      "metadata": {
        "id": "oI2FZAJbSfSc"
      },
      "source": [
        "4.1) Создать DataFrame состоящий из строк относящихся только к 13 августа 2010 года. "
      ]
    },
    {
      "cell_type": "code",
      "metadata": {
        "colab": {
          "base_uri": "https://localhost:8080/",
          "height": 80
        },
        "id": "WEpInZDhXXDh",
        "outputId": "2af7676f-efe8-4bfe-edc2-489433076879"
      },
      "source": [
        "dt1 = data2[data2['date'] == 20100813]\n",
        "dt1.head(1)"
      ],
      "execution_count": null,
      "outputs": [
        {
          "output_type": "execute_result",
          "data": {
            "text/html": [
              "<div>\n",
              "<style scoped>\n",
              "    .dataframe tbody tr th:only-of-type {\n",
              "        vertical-align: middle;\n",
              "    }\n",
              "\n",
              "    .dataframe tbody tr th {\n",
              "        vertical-align: top;\n",
              "    }\n",
              "\n",
              "    .dataframe thead th {\n",
              "        text-align: right;\n",
              "    }\n",
              "</style>\n",
              "<table border=\"1\" class=\"dataframe\">\n",
              "  <thead>\n",
              "    <tr style=\"text-align: right;\">\n",
              "      <th></th>\n",
              "      <th>date</th>\n",
              "      <th>ticker</th>\n",
              "      <th>open</th>\n",
              "      <th>high</th>\n",
              "      <th>low</th>\n",
              "      <th>close</th>\n",
              "      <th>volume</th>\n",
              "      <th>mean_value</th>\n",
              "    </tr>\n",
              "  </thead>\n",
              "  <tbody>\n",
              "    <tr>\n",
              "      <th>240</th>\n",
              "      <td>20100813</td>\n",
              "      <td>A</td>\n",
              "      <td>27.39</td>\n",
              "      <td>27.85</td>\n",
              "      <td>27.3</td>\n",
              "      <td>27.35</td>\n",
              "      <td>24469</td>\n",
              "      <td>27.575</td>\n",
              "    </tr>\n",
              "  </tbody>\n",
              "</table>\n",
              "</div>"
            ],
            "text/plain": [
              "         date ticker   open   high   low  close  volume  mean_value\n",
              "240  20100813      A  27.39  27.85  27.3  27.35   24469      27.575"
            ]
          },
          "metadata": {},
          "execution_count": 92
        }
      ]
    },
    {
      "cell_type": "markdown",
      "metadata": {
        "id": "AttFJQhySfSd"
      },
      "source": [
        "4.1.2) Из DataFrame, созданного в 4.1, cоздать серию из 30 первых имен "
      ]
    },
    {
      "cell_type": "code",
      "metadata": {
        "colab": {
          "base_uri": "https://localhost:8080/"
        },
        "id": "d06keE6jXjO-",
        "outputId": "886b8635-41fb-46ac-a97a-2b4e422f41b2"
      },
      "source": [
        "dt1['ticker'][:30]"
      ],
      "execution_count": null,
      "outputs": [
        {
          "output_type": "execute_result",
          "data": {
            "text/plain": [
              "240        A\n",
              "485       AA\n",
              "726     AAPL\n",
              "971      ABC\n",
              "1216     ABT\n",
              "1273     ACE\n",
              "1626    ADBE\n",
              "1871     ADI\n",
              "2116     ADM\n",
              "2359     ADP\n",
              "2601    ADSK\n",
              "2846     AEE\n",
              "3091     AEP\n",
              "3336     AES\n",
              "3581     AET\n",
              "3826     AFL\n",
              "4071     AGN\n",
              "4316     AIG\n",
              "4561     AIV\n",
              "4806     AIZ\n",
              "5049    AKAM\n",
              "5294     AKS\n",
              "5539     ALL\n",
              "5782    ALTR\n",
              "6025    AMAT\n",
              "6270     AMD\n",
              "6514    AMGN\n",
              "6758     AMP\n",
              "7003     AMT\n",
              "7246    AMZN\n",
              "Name: ticker, dtype: object"
            ]
          },
          "metadata": {},
          "execution_count": 93
        }
      ]
    },
    {
      "cell_type": "markdown",
      "metadata": {
        "id": "4fXHbKzmSfSe"
      },
      "source": [
        "4.2) Из DataFrame, созданного в 4.1, создать новый DataFrame индексом в котором являются имена тикеров."
      ]
    },
    {
      "cell_type": "code",
      "metadata": {
        "colab": {
          "base_uri": "https://localhost:8080/",
          "height": 173
        },
        "id": "aW8ym_O6XoR0",
        "outputId": "cb71e450-8cbf-4518-e108-67d9a1ad0a7d"
      },
      "source": [
        "dt2 = dt1\n",
        "dt2.index = dt1['ticker']\n",
        "dt2.head(3)"
      ],
      "execution_count": null,
      "outputs": [
        {
          "output_type": "execute_result",
          "data": {
            "text/html": [
              "<div>\n",
              "<style scoped>\n",
              "    .dataframe tbody tr th:only-of-type {\n",
              "        vertical-align: middle;\n",
              "    }\n",
              "\n",
              "    .dataframe tbody tr th {\n",
              "        vertical-align: top;\n",
              "    }\n",
              "\n",
              "    .dataframe thead th {\n",
              "        text-align: right;\n",
              "    }\n",
              "</style>\n",
              "<table border=\"1\" class=\"dataframe\">\n",
              "  <thead>\n",
              "    <tr style=\"text-align: right;\">\n",
              "      <th></th>\n",
              "      <th>date</th>\n",
              "      <th>ticker</th>\n",
              "      <th>open</th>\n",
              "      <th>high</th>\n",
              "      <th>low</th>\n",
              "      <th>close</th>\n",
              "      <th>volume</th>\n",
              "      <th>mean_value</th>\n",
              "    </tr>\n",
              "    <tr>\n",
              "      <th>ticker</th>\n",
              "      <th></th>\n",
              "      <th></th>\n",
              "      <th></th>\n",
              "      <th></th>\n",
              "      <th></th>\n",
              "      <th></th>\n",
              "      <th></th>\n",
              "      <th></th>\n",
              "    </tr>\n",
              "  </thead>\n",
              "  <tbody>\n",
              "    <tr>\n",
              "      <th>A</th>\n",
              "      <td>20100813</td>\n",
              "      <td>A</td>\n",
              "      <td>27.39</td>\n",
              "      <td>27.85</td>\n",
              "      <td>27.300</td>\n",
              "      <td>27.35</td>\n",
              "      <td>24469</td>\n",
              "      <td>27.5750</td>\n",
              "    </tr>\n",
              "    <tr>\n",
              "      <th>AA</th>\n",
              "      <td>20100813</td>\n",
              "      <td>AA</td>\n",
              "      <td>10.70</td>\n",
              "      <td>10.79</td>\n",
              "      <td>10.575</td>\n",
              "      <td>10.64</td>\n",
              "      <td>154397</td>\n",
              "      <td>10.6825</td>\n",
              "    </tr>\n",
              "    <tr>\n",
              "      <th>AAPL</th>\n",
              "      <td>20100813</td>\n",
              "      <td>AAPL</td>\n",
              "      <td>251.03</td>\n",
              "      <td>251.88</td>\n",
              "      <td>249.090</td>\n",
              "      <td>249.10</td>\n",
              "      <td>126738</td>\n",
              "      <td>250.4850</td>\n",
              "    </tr>\n",
              "  </tbody>\n",
              "</table>\n",
              "</div>"
            ],
            "text/plain": [
              "            date ticker    open    high      low   close  volume  mean_value\n",
              "ticker                                                                      \n",
              "A       20100813      A   27.39   27.85   27.300   27.35   24469     27.5750\n",
              "AA      20100813     AA   10.70   10.79   10.575   10.64  154397     10.6825\n",
              "AAPL    20100813   AAPL  251.03  251.88  249.090  249.10  126738    250.4850"
            ]
          },
          "metadata": {},
          "execution_count": 94
        }
      ]
    },
    {
      "cell_type": "markdown",
      "metadata": {
        "id": "ISsFyUDlSfSf"
      },
      "source": [
        "4.3) Создать DataFrame состоящий из строк относящихся только тикеру ALTR."
      ]
    },
    {
      "cell_type": "code",
      "metadata": {
        "colab": {
          "base_uri": "https://localhost:8080/",
          "height": 142
        },
        "id": "OmlrjYzBYEeQ",
        "outputId": "2ef50a72-dddb-4797-a3a2-02fa5d295ab4"
      },
      "source": [
        "dt5 = data2[data2['ticker'] == 'ALTR']\n",
        "dt5.head(3)"
      ],
      "execution_count": null,
      "outputs": [
        {
          "output_type": "execute_result",
          "data": {
            "text/html": [
              "<div>\n",
              "<style scoped>\n",
              "    .dataframe tbody tr th:only-of-type {\n",
              "        vertical-align: middle;\n",
              "    }\n",
              "\n",
              "    .dataframe tbody tr th {\n",
              "        vertical-align: top;\n",
              "    }\n",
              "\n",
              "    .dataframe thead th {\n",
              "        text-align: right;\n",
              "    }\n",
              "</style>\n",
              "<table border=\"1\" class=\"dataframe\">\n",
              "  <thead>\n",
              "    <tr style=\"text-align: right;\">\n",
              "      <th></th>\n",
              "      <th>date</th>\n",
              "      <th>ticker</th>\n",
              "      <th>open</th>\n",
              "      <th>high</th>\n",
              "      <th>low</th>\n",
              "      <th>close</th>\n",
              "      <th>volume</th>\n",
              "      <th>mean_value</th>\n",
              "    </tr>\n",
              "  </thead>\n",
              "  <tbody>\n",
              "    <tr>\n",
              "      <th>5544</th>\n",
              "      <td>20090821</td>\n",
              "      <td>ALTR</td>\n",
              "      <td>19.36</td>\n",
              "      <td>19.50</td>\n",
              "      <td>19.15</td>\n",
              "      <td>19.48</td>\n",
              "      <td>54580</td>\n",
              "      <td>19.325</td>\n",
              "    </tr>\n",
              "    <tr>\n",
              "      <th>5545</th>\n",
              "      <td>20090824</td>\n",
              "      <td>ALTR</td>\n",
              "      <td>19.51</td>\n",
              "      <td>19.72</td>\n",
              "      <td>19.04</td>\n",
              "      <td>19.13</td>\n",
              "      <td>42059</td>\n",
              "      <td>19.380</td>\n",
              "    </tr>\n",
              "    <tr>\n",
              "      <th>5546</th>\n",
              "      <td>20090825</td>\n",
              "      <td>ALTR</td>\n",
              "      <td>19.13</td>\n",
              "      <td>19.39</td>\n",
              "      <td>18.95</td>\n",
              "      <td>19.05</td>\n",
              "      <td>48539</td>\n",
              "      <td>19.170</td>\n",
              "    </tr>\n",
              "  </tbody>\n",
              "</table>\n",
              "</div>"
            ],
            "text/plain": [
              "          date ticker   open   high    low  close  volume  mean_value\n",
              "5544  20090821   ALTR  19.36  19.50  19.15  19.48   54580      19.325\n",
              "5545  20090824   ALTR  19.51  19.72  19.04  19.13   42059      19.380\n",
              "5546  20090825   ALTR  19.13  19.39  18.95  19.05   48539      19.170"
            ]
          },
          "metadata": {},
          "execution_count": 95
        }
      ]
    },
    {
      "cell_type": "markdown",
      "metadata": {
        "id": "l7250Y8_SfSg"
      },
      "source": [
        "4.4) Из DataFrame, созданного в 4.3, создать DataFrame индексом в котором являются даты."
      ]
    },
    {
      "cell_type": "code",
      "metadata": {
        "colab": {
          "base_uri": "https://localhost:8080/",
          "height": 173
        },
        "id": "mcgLo7tdYNss",
        "outputId": "1d310356-d011-4a77-ce9f-85fa598d31bf"
      },
      "source": [
        "dt6 = dt5\n",
        "dt6.index = dt5['date']\n",
        "dt6 = dt6.drop(['date'],axis=1)\n",
        "dt6.head(3)"
      ],
      "execution_count": null,
      "outputs": [
        {
          "output_type": "execute_result",
          "data": {
            "text/html": [
              "<div>\n",
              "<style scoped>\n",
              "    .dataframe tbody tr th:only-of-type {\n",
              "        vertical-align: middle;\n",
              "    }\n",
              "\n",
              "    .dataframe tbody tr th {\n",
              "        vertical-align: top;\n",
              "    }\n",
              "\n",
              "    .dataframe thead th {\n",
              "        text-align: right;\n",
              "    }\n",
              "</style>\n",
              "<table border=\"1\" class=\"dataframe\">\n",
              "  <thead>\n",
              "    <tr style=\"text-align: right;\">\n",
              "      <th></th>\n",
              "      <th>ticker</th>\n",
              "      <th>open</th>\n",
              "      <th>high</th>\n",
              "      <th>low</th>\n",
              "      <th>close</th>\n",
              "      <th>volume</th>\n",
              "      <th>mean_value</th>\n",
              "    </tr>\n",
              "    <tr>\n",
              "      <th>date</th>\n",
              "      <th></th>\n",
              "      <th></th>\n",
              "      <th></th>\n",
              "      <th></th>\n",
              "      <th></th>\n",
              "      <th></th>\n",
              "      <th></th>\n",
              "    </tr>\n",
              "  </thead>\n",
              "  <tbody>\n",
              "    <tr>\n",
              "      <th>20090821</th>\n",
              "      <td>ALTR</td>\n",
              "      <td>19.36</td>\n",
              "      <td>19.50</td>\n",
              "      <td>19.15</td>\n",
              "      <td>19.48</td>\n",
              "      <td>54580</td>\n",
              "      <td>19.325</td>\n",
              "    </tr>\n",
              "    <tr>\n",
              "      <th>20090824</th>\n",
              "      <td>ALTR</td>\n",
              "      <td>19.51</td>\n",
              "      <td>19.72</td>\n",
              "      <td>19.04</td>\n",
              "      <td>19.13</td>\n",
              "      <td>42059</td>\n",
              "      <td>19.380</td>\n",
              "    </tr>\n",
              "    <tr>\n",
              "      <th>20090825</th>\n",
              "      <td>ALTR</td>\n",
              "      <td>19.13</td>\n",
              "      <td>19.39</td>\n",
              "      <td>18.95</td>\n",
              "      <td>19.05</td>\n",
              "      <td>48539</td>\n",
              "      <td>19.170</td>\n",
              "    </tr>\n",
              "  </tbody>\n",
              "</table>\n",
              "</div>"
            ],
            "text/plain": [
              "         ticker   open   high    low  close  volume  mean_value\n",
              "date                                                           \n",
              "20090821   ALTR  19.36  19.50  19.15  19.48   54580      19.325\n",
              "20090824   ALTR  19.51  19.72  19.04  19.13   42059      19.380\n",
              "20090825   ALTR  19.13  19.39  18.95  19.05   48539      19.170"
            ]
          },
          "metadata": {},
          "execution_count": 96
        }
      ]
    },
    {
      "cell_type": "markdown",
      "metadata": {
        "id": "2EJNgDbcSfSh"
      },
      "source": [
        "4.5) В DataFrame, созданном в 4.3, добавить столбец, содержащий только число месяца, к которому относится дата."
      ]
    },
    {
      "cell_type": "code",
      "metadata": {
        "colab": {
          "base_uri": "https://localhost:8080/",
          "height": 173
        },
        "id": "MWuN7SInYor7",
        "outputId": "9f1fca82-c7a1-4300-eada-e58c9fd2642c"
      },
      "source": [
        "month = pd.to_datetime(dt6.index,format='%Y%m%d').month\n",
        "dt6['month'] = month\n",
        "dt6.head(3)"
      ],
      "execution_count": null,
      "outputs": [
        {
          "output_type": "execute_result",
          "data": {
            "text/html": [
              "<div>\n",
              "<style scoped>\n",
              "    .dataframe tbody tr th:only-of-type {\n",
              "        vertical-align: middle;\n",
              "    }\n",
              "\n",
              "    .dataframe tbody tr th {\n",
              "        vertical-align: top;\n",
              "    }\n",
              "\n",
              "    .dataframe thead th {\n",
              "        text-align: right;\n",
              "    }\n",
              "</style>\n",
              "<table border=\"1\" class=\"dataframe\">\n",
              "  <thead>\n",
              "    <tr style=\"text-align: right;\">\n",
              "      <th></th>\n",
              "      <th>ticker</th>\n",
              "      <th>open</th>\n",
              "      <th>high</th>\n",
              "      <th>low</th>\n",
              "      <th>close</th>\n",
              "      <th>volume</th>\n",
              "      <th>mean_value</th>\n",
              "      <th>month</th>\n",
              "    </tr>\n",
              "    <tr>\n",
              "      <th>date</th>\n",
              "      <th></th>\n",
              "      <th></th>\n",
              "      <th></th>\n",
              "      <th></th>\n",
              "      <th></th>\n",
              "      <th></th>\n",
              "      <th></th>\n",
              "      <th></th>\n",
              "    </tr>\n",
              "  </thead>\n",
              "  <tbody>\n",
              "    <tr>\n",
              "      <th>20090821</th>\n",
              "      <td>ALTR</td>\n",
              "      <td>19.36</td>\n",
              "      <td>19.50</td>\n",
              "      <td>19.15</td>\n",
              "      <td>19.48</td>\n",
              "      <td>54580</td>\n",
              "      <td>19.325</td>\n",
              "      <td>8</td>\n",
              "    </tr>\n",
              "    <tr>\n",
              "      <th>20090824</th>\n",
              "      <td>ALTR</td>\n",
              "      <td>19.51</td>\n",
              "      <td>19.72</td>\n",
              "      <td>19.04</td>\n",
              "      <td>19.13</td>\n",
              "      <td>42059</td>\n",
              "      <td>19.380</td>\n",
              "      <td>8</td>\n",
              "    </tr>\n",
              "    <tr>\n",
              "      <th>20090825</th>\n",
              "      <td>ALTR</td>\n",
              "      <td>19.13</td>\n",
              "      <td>19.39</td>\n",
              "      <td>18.95</td>\n",
              "      <td>19.05</td>\n",
              "      <td>48539</td>\n",
              "      <td>19.170</td>\n",
              "      <td>8</td>\n",
              "    </tr>\n",
              "  </tbody>\n",
              "</table>\n",
              "</div>"
            ],
            "text/plain": [
              "         ticker   open   high    low  close  volume  mean_value  month\n",
              "date                                                                  \n",
              "20090821   ALTR  19.36  19.50  19.15  19.48   54580      19.325      8\n",
              "20090824   ALTR  19.51  19.72  19.04  19.13   42059      19.380      8\n",
              "20090825   ALTR  19.13  19.39  18.95  19.05   48539      19.170      8"
            ]
          },
          "metadata": {},
          "execution_count": 97
        }
      ]
    },
    {
      "cell_type": "markdown",
      "metadata": {
        "id": "M09hzrnISfSi"
      },
      "source": [
        "4.5.1) Создать DataFrame состоящий из строк относящихся только тикеру WAT и объединить его с DataFrame для ALTR. "
      ]
    },
    {
      "cell_type": "code",
      "metadata": {
        "colab": {
          "base_uri": "https://localhost:8080/",
          "height": 142
        },
        "id": "hEWU97sgZ4_J",
        "outputId": "5cc81ff4-f5e0-4d33-e6a7-67949a9ef39c"
      },
      "source": [
        "wat = data2[data2['ticker'] == 'WAT']\n",
        "alter = data2[data2['ticker'] == 'ALTR']\n",
        "alter.index = alter['ticker']\n",
        "wat.index = wat['ticker']\n",
        "res = alter.merge(wat, left_on='date', right_on='date')\n",
        "res.head(3)"
      ],
      "execution_count": null,
      "outputs": [
        {
          "output_type": "execute_result",
          "data": {
            "text/html": [
              "<div>\n",
              "<style scoped>\n",
              "    .dataframe tbody tr th:only-of-type {\n",
              "        vertical-align: middle;\n",
              "    }\n",
              "\n",
              "    .dataframe tbody tr th {\n",
              "        vertical-align: top;\n",
              "    }\n",
              "\n",
              "    .dataframe thead th {\n",
              "        text-align: right;\n",
              "    }\n",
              "</style>\n",
              "<table border=\"1\" class=\"dataframe\">\n",
              "  <thead>\n",
              "    <tr style=\"text-align: right;\">\n",
              "      <th></th>\n",
              "      <th>date</th>\n",
              "      <th>ticker_x</th>\n",
              "      <th>open_x</th>\n",
              "      <th>high_x</th>\n",
              "      <th>low_x</th>\n",
              "      <th>close_x</th>\n",
              "      <th>volume_x</th>\n",
              "      <th>mean_value_x</th>\n",
              "      <th>ticker_y</th>\n",
              "      <th>open_y</th>\n",
              "      <th>high_y</th>\n",
              "      <th>low_y</th>\n",
              "      <th>close_y</th>\n",
              "      <th>volume_y</th>\n",
              "      <th>mean_value_y</th>\n",
              "    </tr>\n",
              "  </thead>\n",
              "  <tbody>\n",
              "    <tr>\n",
              "      <th>0</th>\n",
              "      <td>20090821</td>\n",
              "      <td>ALTR</td>\n",
              "      <td>19.36</td>\n",
              "      <td>19.50</td>\n",
              "      <td>19.15</td>\n",
              "      <td>19.48</td>\n",
              "      <td>54580</td>\n",
              "      <td>19.325</td>\n",
              "      <td>WAT</td>\n",
              "      <td>50.77</td>\n",
              "      <td>52.144</td>\n",
              "      <td>50.33</td>\n",
              "      <td>51.80</td>\n",
              "      <td>9785</td>\n",
              "      <td>51.237</td>\n",
              "    </tr>\n",
              "    <tr>\n",
              "      <th>1</th>\n",
              "      <td>20090824</td>\n",
              "      <td>ALTR</td>\n",
              "      <td>19.51</td>\n",
              "      <td>19.72</td>\n",
              "      <td>19.04</td>\n",
              "      <td>19.13</td>\n",
              "      <td>42059</td>\n",
              "      <td>19.380</td>\n",
              "      <td>WAT</td>\n",
              "      <td>52.02</td>\n",
              "      <td>52.020</td>\n",
              "      <td>51.38</td>\n",
              "      <td>51.48</td>\n",
              "      <td>5866</td>\n",
              "      <td>51.700</td>\n",
              "    </tr>\n",
              "    <tr>\n",
              "      <th>2</th>\n",
              "      <td>20090825</td>\n",
              "      <td>ALTR</td>\n",
              "      <td>19.13</td>\n",
              "      <td>19.39</td>\n",
              "      <td>18.95</td>\n",
              "      <td>19.05</td>\n",
              "      <td>48539</td>\n",
              "      <td>19.170</td>\n",
              "      <td>WAT</td>\n",
              "      <td>51.61</td>\n",
              "      <td>52.740</td>\n",
              "      <td>51.50</td>\n",
              "      <td>52.23</td>\n",
              "      <td>9567</td>\n",
              "      <td>52.120</td>\n",
              "    </tr>\n",
              "  </tbody>\n",
              "</table>\n",
              "</div>"
            ],
            "text/plain": [
              "       date ticker_x  open_x  high_x  ...  low_y  close_y  volume_y  mean_value_y\n",
              "0  20090821     ALTR   19.36   19.50  ...  50.33    51.80      9785        51.237\n",
              "1  20090824     ALTR   19.51   19.72  ...  51.38    51.48      5866        51.700\n",
              "2  20090825     ALTR   19.13   19.39  ...  51.50    52.23      9567        52.120\n",
              "\n",
              "[3 rows x 15 columns]"
            ]
          },
          "metadata": {},
          "execution_count": 98
        }
      ]
    },
    {
      "cell_type": "markdown",
      "metadata": {
        "id": "koJEiy9ISfSi"
      },
      "source": [
        "4.5.2) Создать DataFrame в котором присутствует столбец, отражающий разницу в объемах торгов по WAT и ALTR в одинаковые дни и содержит исходные данны об объеме трогов этими акциями."
      ]
    },
    {
      "cell_type": "code",
      "metadata": {
        "colab": {
          "base_uri": "https://localhost:8080/",
          "height": 142
        },
        "id": "UOtLRByIbA4i",
        "outputId": "13d24617-a922-4472-eabc-ce5af12c5ded"
      },
      "source": [
        "wat_alter = res\n",
        "wat_alter['Vol_dif'] = res.volume_x - res.volume_y\n",
        "wat_alter.head(3)"
      ],
      "execution_count": null,
      "outputs": [
        {
          "output_type": "execute_result",
          "data": {
            "text/html": [
              "<div>\n",
              "<style scoped>\n",
              "    .dataframe tbody tr th:only-of-type {\n",
              "        vertical-align: middle;\n",
              "    }\n",
              "\n",
              "    .dataframe tbody tr th {\n",
              "        vertical-align: top;\n",
              "    }\n",
              "\n",
              "    .dataframe thead th {\n",
              "        text-align: right;\n",
              "    }\n",
              "</style>\n",
              "<table border=\"1\" class=\"dataframe\">\n",
              "  <thead>\n",
              "    <tr style=\"text-align: right;\">\n",
              "      <th></th>\n",
              "      <th>date</th>\n",
              "      <th>ticker_x</th>\n",
              "      <th>open_x</th>\n",
              "      <th>high_x</th>\n",
              "      <th>low_x</th>\n",
              "      <th>close_x</th>\n",
              "      <th>volume_x</th>\n",
              "      <th>mean_value_x</th>\n",
              "      <th>ticker_y</th>\n",
              "      <th>open_y</th>\n",
              "      <th>high_y</th>\n",
              "      <th>low_y</th>\n",
              "      <th>close_y</th>\n",
              "      <th>volume_y</th>\n",
              "      <th>mean_value_y</th>\n",
              "      <th>Vol_dif</th>\n",
              "    </tr>\n",
              "  </thead>\n",
              "  <tbody>\n",
              "    <tr>\n",
              "      <th>0</th>\n",
              "      <td>20090821</td>\n",
              "      <td>ALTR</td>\n",
              "      <td>19.36</td>\n",
              "      <td>19.50</td>\n",
              "      <td>19.15</td>\n",
              "      <td>19.48</td>\n",
              "      <td>54580</td>\n",
              "      <td>19.325</td>\n",
              "      <td>WAT</td>\n",
              "      <td>50.77</td>\n",
              "      <td>52.144</td>\n",
              "      <td>50.33</td>\n",
              "      <td>51.80</td>\n",
              "      <td>9785</td>\n",
              "      <td>51.237</td>\n",
              "      <td>44795</td>\n",
              "    </tr>\n",
              "    <tr>\n",
              "      <th>1</th>\n",
              "      <td>20090824</td>\n",
              "      <td>ALTR</td>\n",
              "      <td>19.51</td>\n",
              "      <td>19.72</td>\n",
              "      <td>19.04</td>\n",
              "      <td>19.13</td>\n",
              "      <td>42059</td>\n",
              "      <td>19.380</td>\n",
              "      <td>WAT</td>\n",
              "      <td>52.02</td>\n",
              "      <td>52.020</td>\n",
              "      <td>51.38</td>\n",
              "      <td>51.48</td>\n",
              "      <td>5866</td>\n",
              "      <td>51.700</td>\n",
              "      <td>36193</td>\n",
              "    </tr>\n",
              "    <tr>\n",
              "      <th>2</th>\n",
              "      <td>20090825</td>\n",
              "      <td>ALTR</td>\n",
              "      <td>19.13</td>\n",
              "      <td>19.39</td>\n",
              "      <td>18.95</td>\n",
              "      <td>19.05</td>\n",
              "      <td>48539</td>\n",
              "      <td>19.170</td>\n",
              "      <td>WAT</td>\n",
              "      <td>51.61</td>\n",
              "      <td>52.740</td>\n",
              "      <td>51.50</td>\n",
              "      <td>52.23</td>\n",
              "      <td>9567</td>\n",
              "      <td>52.120</td>\n",
              "      <td>38972</td>\n",
              "    </tr>\n",
              "  </tbody>\n",
              "</table>\n",
              "</div>"
            ],
            "text/plain": [
              "       date ticker_x  open_x  high_x  ...  close_y  volume_y  mean_value_y  Vol_dif\n",
              "0  20090821     ALTR   19.36   19.50  ...    51.80      9785        51.237    44795\n",
              "1  20090824     ALTR   19.51   19.72  ...    51.48      5866        51.700    36193\n",
              "2  20090825     ALTR   19.13   19.39  ...    52.23      9567        52.120    38972\n",
              "\n",
              "[3 rows x 16 columns]"
            ]
          },
          "metadata": {},
          "execution_count": 99
        }
      ]
    },
    {
      "cell_type": "markdown",
      "metadata": {
        "id": "6jEBK5JmSfSj"
      },
      "source": [
        "4.6) В DataFrame добавить столбец, содержащий только число месяца, к которому относится дата.\n",
        "\n",
        "4.7) Из DataFrame выбрать только строки, относящиеся к 13 числу месяца."
      ]
    },
    {
      "cell_type": "code",
      "metadata": {
        "colab": {
          "base_uri": "https://localhost:8080/",
          "height": 142
        },
        "id": "R6XXA3FFktcv",
        "outputId": "278b81a2-5563-4977-cd15-13a83ea7f61e"
      },
      "source": [
        "day = pd.to_datetime(wat_alter.date,format='%Y%m%d').dt.day\n",
        "wat_alter['day'] = day\n",
        "wat_alter = wat_alter[wat_alter['day'] == 13]\n",
        "wat_alter.head(3)"
      ],
      "execution_count": null,
      "outputs": [
        {
          "output_type": "execute_result",
          "data": {
            "text/html": [
              "<div>\n",
              "<style scoped>\n",
              "    .dataframe tbody tr th:only-of-type {\n",
              "        vertical-align: middle;\n",
              "    }\n",
              "\n",
              "    .dataframe tbody tr th {\n",
              "        vertical-align: top;\n",
              "    }\n",
              "\n",
              "    .dataframe thead th {\n",
              "        text-align: right;\n",
              "    }\n",
              "</style>\n",
              "<table border=\"1\" class=\"dataframe\">\n",
              "  <thead>\n",
              "    <tr style=\"text-align: right;\">\n",
              "      <th></th>\n",
              "      <th>date</th>\n",
              "      <th>ticker_x</th>\n",
              "      <th>open_x</th>\n",
              "      <th>high_x</th>\n",
              "      <th>low_x</th>\n",
              "      <th>close_x</th>\n",
              "      <th>volume_x</th>\n",
              "      <th>mean_value_x</th>\n",
              "      <th>ticker_y</th>\n",
              "      <th>open_y</th>\n",
              "      <th>high_y</th>\n",
              "      <th>low_y</th>\n",
              "      <th>close_y</th>\n",
              "      <th>volume_y</th>\n",
              "      <th>mean_value_y</th>\n",
              "      <th>Vol_dif</th>\n",
              "      <th>day</th>\n",
              "    </tr>\n",
              "  </thead>\n",
              "  <tbody>\n",
              "    <tr>\n",
              "      <th>35</th>\n",
              "      <td>20091013</td>\n",
              "      <td>ALTR</td>\n",
              "      <td>21.40</td>\n",
              "      <td>21.59</td>\n",
              "      <td>21.25</td>\n",
              "      <td>21.431</td>\n",
              "      <td>140930</td>\n",
              "      <td>21.42</td>\n",
              "      <td>WAT</td>\n",
              "      <td>57.25</td>\n",
              "      <td>57.90</td>\n",
              "      <td>56.89</td>\n",
              "      <td>57.37</td>\n",
              "      <td>7004</td>\n",
              "      <td>57.395</td>\n",
              "      <td>133926</td>\n",
              "      <td>13</td>\n",
              "    </tr>\n",
              "    <tr>\n",
              "      <th>52</th>\n",
              "      <td>20091113</td>\n",
              "      <td>ALTR</td>\n",
              "      <td>20.77</td>\n",
              "      <td>21.21</td>\n",
              "      <td>20.73</td>\n",
              "      <td>20.940</td>\n",
              "      <td>55069</td>\n",
              "      <td>20.97</td>\n",
              "      <td>WAT</td>\n",
              "      <td>59.69</td>\n",
              "      <td>61.33</td>\n",
              "      <td>59.40</td>\n",
              "      <td>60.72</td>\n",
              "      <td>11880</td>\n",
              "      <td>60.365</td>\n",
              "      <td>43189</td>\n",
              "      <td>13</td>\n",
              "    </tr>\n",
              "    <tr>\n",
              "      <th>92</th>\n",
              "      <td>20100113</td>\n",
              "      <td>ALTR</td>\n",
              "      <td>21.89</td>\n",
              "      <td>22.20</td>\n",
              "      <td>21.40</td>\n",
              "      <td>22.140</td>\n",
              "      <td>59606</td>\n",
              "      <td>21.80</td>\n",
              "      <td>WAT</td>\n",
              "      <td>62.57</td>\n",
              "      <td>62.90</td>\n",
              "      <td>62.27</td>\n",
              "      <td>62.61</td>\n",
              "      <td>6032</td>\n",
              "      <td>62.585</td>\n",
              "      <td>53574</td>\n",
              "      <td>13</td>\n",
              "    </tr>\n",
              "  </tbody>\n",
              "</table>\n",
              "</div>"
            ],
            "text/plain": [
              "        date ticker_x  open_x  high_x  ...  volume_y  mean_value_y  Vol_dif  day\n",
              "35  20091013     ALTR   21.40   21.59  ...      7004        57.395   133926   13\n",
              "52  20091113     ALTR   20.77   21.21  ...     11880        60.365    43189   13\n",
              "92  20100113     ALTR   21.89   22.20  ...      6032        62.585    53574   13\n",
              "\n",
              "[3 rows x 17 columns]"
            ]
          },
          "metadata": {},
          "execution_count": 100
        }
      ]
    },
    {
      "cell_type": "markdown",
      "metadata": {
        "id": "-9CJn2nNSfSk"
      },
      "source": [
        "4) Выяввиь столбцы содержащие минимальные и максимальные значения (если такие столбцы есть). (Проверить, есть ли среди столбцов, столбец с минимальным значением курса акций.)"
      ]
    },
    {
      "cell_type": "code",
      "metadata": {
        "colab": {
          "base_uri": "https://localhost:8080/",
          "height": 111
        },
        "id": "W1weChIZndMK",
        "outputId": "ef9841b8-7162-44c5-da05-53e60281eff8"
      },
      "source": [
        "data2.head(2)"
      ],
      "execution_count": null,
      "outputs": [
        {
          "output_type": "execute_result",
          "data": {
            "text/html": [
              "<div>\n",
              "<style scoped>\n",
              "    .dataframe tbody tr th:only-of-type {\n",
              "        vertical-align: middle;\n",
              "    }\n",
              "\n",
              "    .dataframe tbody tr th {\n",
              "        vertical-align: top;\n",
              "    }\n",
              "\n",
              "    .dataframe thead th {\n",
              "        text-align: right;\n",
              "    }\n",
              "</style>\n",
              "<table border=\"1\" class=\"dataframe\">\n",
              "  <thead>\n",
              "    <tr style=\"text-align: right;\">\n",
              "      <th></th>\n",
              "      <th>date</th>\n",
              "      <th>ticker</th>\n",
              "      <th>open</th>\n",
              "      <th>high</th>\n",
              "      <th>low</th>\n",
              "      <th>close</th>\n",
              "      <th>volume</th>\n",
              "      <th>mean_value</th>\n",
              "    </tr>\n",
              "  </thead>\n",
              "  <tbody>\n",
              "    <tr>\n",
              "      <th>0</th>\n",
              "      <td>20090821</td>\n",
              "      <td>A</td>\n",
              "      <td>25.60</td>\n",
              "      <td>25.61</td>\n",
              "      <td>25.22</td>\n",
              "      <td>25.55</td>\n",
              "      <td>34758</td>\n",
              "      <td>25.415</td>\n",
              "    </tr>\n",
              "    <tr>\n",
              "      <th>1</th>\n",
              "      <td>20090824</td>\n",
              "      <td>A</td>\n",
              "      <td>25.64</td>\n",
              "      <td>25.74</td>\n",
              "      <td>25.33</td>\n",
              "      <td>25.50</td>\n",
              "      <td>22247</td>\n",
              "      <td>25.535</td>\n",
              "    </tr>\n",
              "  </tbody>\n",
              "</table>\n",
              "</div>"
            ],
            "text/plain": [
              "       date ticker   open   high    low  close  volume  mean_value\n",
              "0  20090821      A  25.60  25.61  25.22  25.55   34758      25.415\n",
              "1  20090824      A  25.64  25.74  25.33  25.50   22247      25.535"
            ]
          },
          "metadata": {},
          "execution_count": 101
        }
      ]
    },
    {
      "cell_type": "code",
      "metadata": {
        "colab": {
          "base_uri": "https://localhost:8080/"
        },
        "id": "Aj-0tRClmq62",
        "outputId": "66f55b4a-028b-40c0-c426-d691941cc222"
      },
      "source": [
        "col = ['open', 'high', 'low', 'close', 'volume']\n",
        "for i in col:\n",
        "  print(f'max in {i} is {data2[i].max()}')\n",
        "  print(f'min in {i} is {data2[i].min()}')\n",
        "  print('\\n')"
      ],
      "execution_count": null,
      "outputs": [
        {
          "output_type": "stream",
          "name": "stdout",
          "text": [
            "max in open is 627.84\n",
            "min in open is 1.36\n",
            "\n",
            "\n",
            "max in high is 629.51\n",
            "min in high is 1.39\n",
            "\n",
            "\n",
            "max in low is 624.24\n",
            "min in low is 1.0\n",
            "\n",
            "\n",
            "max in close is 626.75\n",
            "min in close is 1.35\n",
            "\n",
            "\n",
            "max in volume is 21474836\n",
            "min in volume is 47\n",
            "\n",
            "\n"
          ]
        }
      ]
    },
    {
      "cell_type": "markdown",
      "metadata": {
        "id": "VyyGJMt2SfSl"
      },
      "source": [
        "5) По данным из 'sp500hst.txt' при помощи Pandas расчитать максимальные значения в 3-6 столбца для дат после 20100801\n",
        "\n",
        "6) По данным из 'sp500hst.txt' при помощи Pandas расчитать средний объем торгов (обеъм торгов - в последнем столбце) при значениях 3го столбца больше 50."
      ]
    },
    {
      "cell_type": "code",
      "metadata": {
        "colab": {
          "base_uri": "https://localhost:8080/"
        },
        "id": "28BuHVSpoZYa",
        "outputId": "26a22268-a25e-4992-86b7-6f1957e9da64"
      },
      "source": [
        "data_ = data2[data2['date'] > 20100801]\n",
        "col = ['open', 'high', 'low', 'close', 'volume']\n",
        "for i in col:\n",
        "  print(f'max in {i} is {data_[i].max()}')\n",
        "  print(f'min in {i} is {data_[i].min()}')\n",
        "  print('\\n')"
      ],
      "execution_count": null,
      "outputs": [
        {
          "output_type": "stream",
          "name": "stdout",
          "text": [
            "max in open is 505.85\n",
            "min in open is 3.67\n",
            "\n",
            "\n",
            "max in high is 508.6\n",
            "min in high is 3.75\n",
            "\n",
            "\n",
            "max in low is 503.559\n",
            "min in low is 3.57\n",
            "\n",
            "\n",
            "max in close is 508.1\n",
            "min in close is 3.7\n",
            "\n",
            "\n",
            "max in volume is 5741998\n",
            "min in volume is 161\n",
            "\n",
            "\n"
          ]
        }
      ]
    },
    {
      "cell_type": "code",
      "metadata": {
        "colab": {
          "base_uri": "https://localhost:8080/"
        },
        "id": "seKkjw1VoBgB",
        "outputId": "f8be8647-0a58-46e0-e096-ff5e0eb76627"
      },
      "source": [
        "data_1 = data_[data_['open'] > 30]\n",
        "print('Среднее значение по столбцу volume:', data_1['volume'].mean())\n"
      ],
      "execution_count": null,
      "outputs": [
        {
          "output_type": "stream",
          "name": "stdout",
          "text": [
            "Среднее значение по столбцу volume: 35293.19182389937\n"
          ]
        }
      ]
    },
    {
      "cell_type": "markdown",
      "metadata": {
        "id": "I451qS74SfSm"
      },
      "source": [
        "7) Добавить столбец с расшифровкой названия тикера используя данные из файла sp_data2.csv . В случае нехватки данных об именах тикеров корректно обработать их.\n",
        "\n",
        "8) Вывести тикеры, для которых не были найдены рсшифровки. "
      ]
    },
    {
      "cell_type": "code",
      "metadata": {
        "colab": {
          "base_uri": "https://localhost:8080/",
          "height": 204
        },
        "id": "k5VM7Q2poxUa",
        "outputId": "4f491365-5f0a-4d6b-d3c9-32ae191fce42"
      },
      "source": [
        "names = ['ticker','company','proc']\n",
        "data3 = pd.read_csv('/content/drive/MyDrive/контент по финашке/7ой семестр/ТОБД/sp_data2.csv', sep = ';',header = None, names = names)\n",
        "data3.head(5)"
      ],
      "execution_count": null,
      "outputs": [
        {
          "output_type": "execute_result",
          "data": {
            "text/html": [
              "<div>\n",
              "<style scoped>\n",
              "    .dataframe tbody tr th:only-of-type {\n",
              "        vertical-align: middle;\n",
              "    }\n",
              "\n",
              "    .dataframe tbody tr th {\n",
              "        vertical-align: top;\n",
              "    }\n",
              "\n",
              "    .dataframe thead th {\n",
              "        text-align: right;\n",
              "    }\n",
              "</style>\n",
              "<table border=\"1\" class=\"dataframe\">\n",
              "  <thead>\n",
              "    <tr style=\"text-align: right;\">\n",
              "      <th></th>\n",
              "      <th>ticker</th>\n",
              "      <th>company</th>\n",
              "      <th>proc</th>\n",
              "    </tr>\n",
              "  </thead>\n",
              "  <tbody>\n",
              "    <tr>\n",
              "      <th>0</th>\n",
              "      <td>AAPL</td>\n",
              "      <td>Apple</td>\n",
              "      <td>3.6%</td>\n",
              "    </tr>\n",
              "    <tr>\n",
              "      <th>1</th>\n",
              "      <td>AMZN</td>\n",
              "      <td>Amazon.com</td>\n",
              "      <td>3.2%</td>\n",
              "    </tr>\n",
              "    <tr>\n",
              "      <th>2</th>\n",
              "      <td>GOOGL</td>\n",
              "      <td>Alphabet</td>\n",
              "      <td>3.1%</td>\n",
              "    </tr>\n",
              "    <tr>\n",
              "      <th>3</th>\n",
              "      <td>GOOG</td>\n",
              "      <td>Alphabet</td>\n",
              "      <td>3.1%</td>\n",
              "    </tr>\n",
              "    <tr>\n",
              "      <th>4</th>\n",
              "      <td>MSFT</td>\n",
              "      <td>Microsoft</td>\n",
              "      <td>3.0%</td>\n",
              "    </tr>\n",
              "  </tbody>\n",
              "</table>\n",
              "</div>"
            ],
            "text/plain": [
              "  ticker     company  proc\n",
              "0   AAPL       Apple  3.6%\n",
              "1   AMZN  Amazon.com  3.2%\n",
              "2  GOOGL    Alphabet  3.1%\n",
              "3   GOOG    Alphabet  3.1%\n",
              "4   MSFT   Microsoft  3.0%"
            ]
          },
          "metadata": {},
          "execution_count": 105
        }
      ]
    },
    {
      "cell_type": "code",
      "metadata": {
        "id": "jJp7k0IPp2yd"
      },
      "source": [
        "data3 = data3.drop(['proc'], axis = 1)"
      ],
      "execution_count": null,
      "outputs": []
    },
    {
      "cell_type": "code",
      "metadata": {
        "colab": {
          "base_uri": "https://localhost:8080/",
          "height": 204
        },
        "id": "EfA57B3zqFvX",
        "outputId": "90f929a1-f65b-4f42-c759-85aa10637227"
      },
      "source": [
        "res2 = data2.merge(data3, how ='left', left_on='ticker', right_on='ticker')\n",
        "res2.head(5)"
      ],
      "execution_count": null,
      "outputs": [
        {
          "output_type": "execute_result",
          "data": {
            "text/html": [
              "<div>\n",
              "<style scoped>\n",
              "    .dataframe tbody tr th:only-of-type {\n",
              "        vertical-align: middle;\n",
              "    }\n",
              "\n",
              "    .dataframe tbody tr th {\n",
              "        vertical-align: top;\n",
              "    }\n",
              "\n",
              "    .dataframe thead th {\n",
              "        text-align: right;\n",
              "    }\n",
              "</style>\n",
              "<table border=\"1\" class=\"dataframe\">\n",
              "  <thead>\n",
              "    <tr style=\"text-align: right;\">\n",
              "      <th></th>\n",
              "      <th>date</th>\n",
              "      <th>ticker</th>\n",
              "      <th>open</th>\n",
              "      <th>high</th>\n",
              "      <th>low</th>\n",
              "      <th>close</th>\n",
              "      <th>volume</th>\n",
              "      <th>mean_value</th>\n",
              "      <th>company</th>\n",
              "    </tr>\n",
              "  </thead>\n",
              "  <tbody>\n",
              "    <tr>\n",
              "      <th>0</th>\n",
              "      <td>20090821</td>\n",
              "      <td>A</td>\n",
              "      <td>25.60</td>\n",
              "      <td>25.6100</td>\n",
              "      <td>25.220</td>\n",
              "      <td>25.55</td>\n",
              "      <td>34758</td>\n",
              "      <td>25.41500</td>\n",
              "      <td>Agilent Technologies</td>\n",
              "    </tr>\n",
              "    <tr>\n",
              "      <th>1</th>\n",
              "      <td>20090824</td>\n",
              "      <td>A</td>\n",
              "      <td>25.64</td>\n",
              "      <td>25.7400</td>\n",
              "      <td>25.330</td>\n",
              "      <td>25.50</td>\n",
              "      <td>22247</td>\n",
              "      <td>25.53500</td>\n",
              "      <td>Agilent Technologies</td>\n",
              "    </tr>\n",
              "    <tr>\n",
              "      <th>2</th>\n",
              "      <td>20090825</td>\n",
              "      <td>A</td>\n",
              "      <td>25.50</td>\n",
              "      <td>25.7000</td>\n",
              "      <td>25.225</td>\n",
              "      <td>25.34</td>\n",
              "      <td>30891</td>\n",
              "      <td>25.46250</td>\n",
              "      <td>Agilent Technologies</td>\n",
              "    </tr>\n",
              "    <tr>\n",
              "      <th>3</th>\n",
              "      <td>20090826</td>\n",
              "      <td>A</td>\n",
              "      <td>25.32</td>\n",
              "      <td>25.6425</td>\n",
              "      <td>25.145</td>\n",
              "      <td>25.48</td>\n",
              "      <td>33334</td>\n",
              "      <td>25.39375</td>\n",
              "      <td>Agilent Technologies</td>\n",
              "    </tr>\n",
              "    <tr>\n",
              "      <th>4</th>\n",
              "      <td>20090827</td>\n",
              "      <td>A</td>\n",
              "      <td>25.50</td>\n",
              "      <td>25.5700</td>\n",
              "      <td>25.230</td>\n",
              "      <td>25.54</td>\n",
              "      <td>70176</td>\n",
              "      <td>25.40000</td>\n",
              "      <td>Agilent Technologies</td>\n",
              "    </tr>\n",
              "  </tbody>\n",
              "</table>\n",
              "</div>"
            ],
            "text/plain": [
              "       date ticker   open  ...  volume  mean_value               company\n",
              "0  20090821      A  25.60  ...   34758    25.41500  Agilent Technologies\n",
              "1  20090824      A  25.64  ...   22247    25.53500  Agilent Technologies\n",
              "2  20090825      A  25.50  ...   30891    25.46250  Agilent Technologies\n",
              "3  20090826      A  25.32  ...   33334    25.39375  Agilent Technologies\n",
              "4  20090827      A  25.50  ...   70176    25.40000  Agilent Technologies\n",
              "\n",
              "[5 rows x 9 columns]"
            ]
          },
          "metadata": {},
          "execution_count": 107
        }
      ]
    },
    {
      "cell_type": "code",
      "metadata": {
        "colab": {
          "base_uri": "https://localhost:8080/"
        },
        "id": "5uWV3XsIqTsu",
        "outputId": "9f1f9de5-9443-4008-a525-6920412d6b3d"
      },
      "source": [
        "print('тикеры, для которых не были найдены рсшифровки', res2[res2['company'].isnull()].ticker.unique())"
      ],
      "execution_count": null,
      "outputs": [
        {
          "output_type": "stream",
          "name": "stdout",
          "text": [
            "тикеры, для которых не были найдены рсшифровки ['AA' 'ACE' 'ACS' 'AKS' 'ALTR' 'AN' 'ANF' 'AOC' 'APOL' 'ARG' 'ATI' 'AVP'\n",
            " 'AYE' 'BBBY' 'BCR' 'BDK' 'BHI' 'BIG' 'BJS' 'BMC' 'BMS' 'BNI' 'BRCM' 'BTU'\n",
            " 'CAM' 'CBE' 'CBG' 'CCE' 'CEG' 'CEPH' 'CFN' 'CHK' 'CIEN' 'CLF' 'CNX' 'COH'\n",
            " 'CPWR' 'CSC' 'CVG' 'CVH' 'DD' 'DELL' 'DF' 'DNB' 'DNR' 'DO' 'DOW' 'DTV'\n",
            " 'DV' 'DYN' 'EK' 'EMC' 'EP' 'ERTS' 'ESV' 'ETFCD' 'FDO' 'FHN' 'FII' 'FO'\n",
            " 'FPL' 'FRX' 'FSLR' 'FTR' 'GAS' 'GCI' 'GENZ' 'GME' 'GNW' 'GR' 'HAR' 'HCBK'\n",
            " 'HCN' 'HNZ' 'HOT' 'HSP' 'IGT' 'ITT' 'JAVA' 'JBL' 'JCP' 'JDSU' 'JNS' 'KBH'\n",
            " 'KFT' 'KG' 'LIFE' 'LLTC' 'LM' 'LO' 'LSI' 'LTD' 'LUK' 'LXK' 'MBI' 'MDP'\n",
            " 'MEE' 'MFE' 'MHP' 'MHS' 'MI' 'MIL' 'MJN' 'MOLX' 'MON' 'MOT' 'MTW' 'MUR'\n",
            " 'MWV' 'MWW' 'NBR' 'NOVL' 'NSM' 'NU' 'NVLS' 'NYT' 'NYX' 'ODP' 'OI' 'PBG'\n",
            " 'PBI' 'PCL' 'PCLN' 'PCP' 'PCS' 'PDCO' 'PGN' 'PLL' 'POM' 'PTV' 'Q' 'QEP'\n",
            " 'QLGC' 'R' 'RAI' 'RDC' 'RRD' 'RSH' 'RX' 'S' 'SAI' 'SE' 'SGP' 'SHLD'\n",
            " 'SIAL' 'SII' 'SLE' 'SLM' 'SNDK' 'SNI' 'SPLS' 'STJ' 'STR' 'SUN' 'SVU'\n",
            " 'SWN' 'SWY' 'TDC' 'TE' 'TEG' 'TER' 'THC' 'TIE' 'TLAB' 'TSO' 'TWC' 'URBN'\n",
            " 'VIA' 'VIA.B' 'WAG' 'WFMI' 'WFR' 'WIN' 'WLP' 'WPI' 'WPO' 'WYE' 'WYN' 'X'\n",
            " 'XTO' 'YHOO' 'ZMH']\n"
          ]
        }
      ]
    },
    {
      "cell_type": "markdown",
      "metadata": {
        "id": "K_g4QKiHSfSo"
      },
      "source": [
        "9) Рассчитать суммарный объем торгов (столбец 7) для для одинаковых значений (тикеров) из столбца 2 \n",
        "\n",
        "9.2) Для каждого тикера подсчитать, сколько раз он встречается.\n",
        "\n",
        "10) Расчитать среднее значение показателей для каждого из столбцов 3-6 для одинаковых значений (тикеров) из столбца 2 и сохранить в новом DataFrame\n",
        "\n",
        "11) Добавить в DataFrame новый столбец, содержащий объем торгов (столбец 7), нормированный по среднему значению объема торгов для данного тикера.\n",
        "\n"
      ]
    },
    {
      "cell_type": "code",
      "metadata": {
        "colab": {
          "base_uri": "https://localhost:8080/"
        },
        "id": "RgmyiyaLqh5P",
        "outputId": "85d7496f-da3c-4a86-84f8-4c335601b775"
      },
      "source": [
        "r9 = res2.groupby('ticker')['volume'].sum()\n",
        "print('суммарный объем торгов (столбец 7) для для одинаковых значений (тикеров) из столбца 2:', r9)"
      ],
      "execution_count": null,
      "outputs": [
        {
          "output_type": "stream",
          "name": "stdout",
          "text": [
            "суммарный объем торгов (столбец 7) для для одинаковых значений (тикеров) из столбца 2: ticker\n",
            "A        8609336\n",
            "AA      81898998\n",
            "AAPL    52261170\n",
            "ABC      9006756\n",
            "ABT     18975870\n",
            "          ...   \n",
            "XTO     21297931\n",
            "YHOO    56837171\n",
            "YUM     10971538\n",
            "ZION    15551119\n",
            "ZMH      4938916\n",
            "Name: volume, Length: 524, dtype: int64\n"
          ]
        }
      ]
    },
    {
      "cell_type": "code",
      "metadata": {
        "id": "h9METhssq6f9",
        "colab": {
          "base_uri": "https://localhost:8080/"
        },
        "outputId": "83db9fc4-1c12-46d6-ce94-878ea0eb7cbc"
      },
      "source": [
        "print('сколько встречается каждый тикер:')\n",
        "t = res2.groupby('ticker').agg('count')"
      ],
      "execution_count": null,
      "outputs": [
        {
          "output_type": "stream",
          "name": "stdout",
          "text": [
            "сколько встречается каждый тикер:\n"
          ]
        }
      ]
    },
    {
      "cell_type": "code",
      "metadata": {
        "colab": {
          "base_uri": "https://localhost:8080/"
        },
        "id": "U1d1IM5E7JNG",
        "outputId": "a244dbfe-29ad-4562-8e4d-6aa4c36c63a0"
      },
      "source": [
        "t.open"
      ],
      "execution_count": null,
      "outputs": [
        {
          "output_type": "execute_result",
          "data": {
            "text/plain": [
              "ticker\n",
              "A       245\n",
              "AA      245\n",
              "AAPL    241\n",
              "ABC     245\n",
              "ABT     245\n",
              "       ... \n",
              "XTO     207\n",
              "YHOO    243\n",
              "YUM     245\n",
              "ZION    244\n",
              "ZMH     245\n",
              "Name: open, Length: 524, dtype: int64"
            ]
          },
          "metadata": {},
          "execution_count": 111
        }
      ]
    },
    {
      "cell_type": "code",
      "metadata": {
        "colab": {
          "base_uri": "https://localhost:8080/"
        },
        "id": "5qCVLpQE91-U",
        "outputId": "39904af2-60d0-4b1b-f019-91f8bdb31f33"
      },
      "source": [
        "# Расчитать среднее значение показателей для каждого из столбцов 3-6 для одинаковых значений (тикеров) из столбца 2 и сохранить в новом DataFrame\n",
        "t = res2.groupby('ticker')\n",
        "print(t.agg({'open': 'mean', 'high': 'mean','low': 'mean','close': 'mean'}))"
      ],
      "execution_count": null,
      "outputs": [
        {
          "output_type": "stream",
          "name": "stdout",
          "text": [
            "              open        high         low       close\n",
            "ticker                                                \n",
            "A        30.234857   30.567838   29.866467   30.246143\n",
            "AA       13.086959   13.275341   12.842954   13.047345\n",
            "AAPL    221.342427  223.556147  218.409411  221.125341\n",
            "ABC      27.432122   27.683660   27.126983   27.429347\n",
            "ABT      50.996776   51.365541   50.555472   50.986490\n",
            "...            ...         ...         ...         ...\n",
            "XTO      44.640338   45.057131   44.132049   44.588889\n",
            "YHOO     15.854774   16.050593   15.646220   15.847130\n",
            "YUM      37.456898   37.816882   37.094593   37.479633\n",
            "ZION     19.694057   20.171136   19.226905   19.702861\n",
            "ZMH      56.220980   56.799984   55.648306   56.246122\n",
            "\n",
            "[524 rows x 4 columns]\n"
          ]
        }
      ]
    },
    {
      "cell_type": "code",
      "metadata": {
        "colab": {
          "base_uri": "https://localhost:8080/",
          "height": 450
        },
        "id": "v-D0sGxY9Orv",
        "outputId": "b006fbd3-92f8-4f65-c354-4a19bc1fdf20"
      },
      "source": [
        "# Добавить в DataFrame новый столбец, содержащий объем торгов (столбец 7), нормированный по среднему значению объема торгов для данного тикера.\n",
        "\n",
        "# новый столбец:\n",
        "temp = res2.groupby('ticker').agg({'volume': 'mean'}) #  - объем торгов\n",
        "temp = temp.rename({'volume':'mean_volume'}, axis=1)\n",
        "temp"
      ],
      "execution_count": null,
      "outputs": [
        {
          "output_type": "execute_result",
          "data": {
            "text/html": [
              "<div>\n",
              "<style scoped>\n",
              "    .dataframe tbody tr th:only-of-type {\n",
              "        vertical-align: middle;\n",
              "    }\n",
              "\n",
              "    .dataframe tbody tr th {\n",
              "        vertical-align: top;\n",
              "    }\n",
              "\n",
              "    .dataframe thead th {\n",
              "        text-align: right;\n",
              "    }\n",
              "</style>\n",
              "<table border=\"1\" class=\"dataframe\">\n",
              "  <thead>\n",
              "    <tr style=\"text-align: right;\">\n",
              "      <th></th>\n",
              "      <th>mean_volume</th>\n",
              "    </tr>\n",
              "    <tr>\n",
              "      <th>ticker</th>\n",
              "      <th></th>\n",
              "    </tr>\n",
              "  </thead>\n",
              "  <tbody>\n",
              "    <tr>\n",
              "      <th>A</th>\n",
              "      <td>35140.146939</td>\n",
              "    </tr>\n",
              "    <tr>\n",
              "      <th>AA</th>\n",
              "      <td>334281.624490</td>\n",
              "    </tr>\n",
              "    <tr>\n",
              "      <th>AAPL</th>\n",
              "      <td>216851.327801</td>\n",
              "    </tr>\n",
              "    <tr>\n",
              "      <th>ABC</th>\n",
              "      <td>36762.269388</td>\n",
              "    </tr>\n",
              "    <tr>\n",
              "      <th>ABT</th>\n",
              "      <td>77452.530612</td>\n",
              "    </tr>\n",
              "    <tr>\n",
              "      <th>...</th>\n",
              "      <td>...</td>\n",
              "    </tr>\n",
              "    <tr>\n",
              "      <th>XTO</th>\n",
              "      <td>102888.555556</td>\n",
              "    </tr>\n",
              "    <tr>\n",
              "      <th>YHOO</th>\n",
              "      <td>233897.823045</td>\n",
              "    </tr>\n",
              "    <tr>\n",
              "      <th>YUM</th>\n",
              "      <td>44781.787755</td>\n",
              "    </tr>\n",
              "    <tr>\n",
              "      <th>ZION</th>\n",
              "      <td>63734.094262</td>\n",
              "    </tr>\n",
              "    <tr>\n",
              "      <th>ZMH</th>\n",
              "      <td>20158.840816</td>\n",
              "    </tr>\n",
              "  </tbody>\n",
              "</table>\n",
              "<p>524 rows × 1 columns</p>\n",
              "</div>"
            ],
            "text/plain": [
              "          mean_volume\n",
              "ticker               \n",
              "A        35140.146939\n",
              "AA      334281.624490\n",
              "AAPL    216851.327801\n",
              "ABC      36762.269388\n",
              "ABT      77452.530612\n",
              "...               ...\n",
              "XTO     102888.555556\n",
              "YHOO    233897.823045\n",
              "YUM      44781.787755\n",
              "ZION     63734.094262\n",
              "ZMH      20158.840816\n",
              "\n",
              "[524 rows x 1 columns]"
            ]
          },
          "metadata": {},
          "execution_count": 113
        }
      ]
    },
    {
      "cell_type": "code",
      "metadata": {
        "id": "PQN0XhUnADOP"
      },
      "source": [
        "# соединение таблиц\n",
        "itog = res2.merge(temp, left_on='ticker', right_on='ticker')\n",
        "itog = itog.drop(['mean_value'], axis = 1)\n"
      ],
      "execution_count": null,
      "outputs": []
    },
    {
      "cell_type": "code",
      "metadata": {
        "colab": {
          "base_uri": "https://localhost:8080/",
          "height": 419
        },
        "id": "bwMv_VPO_2fT",
        "outputId": "309d3ddc-74a5-47c9-fa48-e67d79529c85"
      },
      "source": [
        "itog.volume = itog.volume/itog.mean_volume\n",
        "itog.drop(['mean_volume'], axis = 1)\n",
        "itog"
      ],
      "execution_count": null,
      "outputs": [
        {
          "output_type": "execute_result",
          "data": {
            "text/html": [
              "<div>\n",
              "<style scoped>\n",
              "    .dataframe tbody tr th:only-of-type {\n",
              "        vertical-align: middle;\n",
              "    }\n",
              "\n",
              "    .dataframe tbody tr th {\n",
              "        vertical-align: top;\n",
              "    }\n",
              "\n",
              "    .dataframe thead th {\n",
              "        text-align: right;\n",
              "    }\n",
              "</style>\n",
              "<table border=\"1\" class=\"dataframe\">\n",
              "  <thead>\n",
              "    <tr style=\"text-align: right;\">\n",
              "      <th></th>\n",
              "      <th>date</th>\n",
              "      <th>ticker</th>\n",
              "      <th>open</th>\n",
              "      <th>high</th>\n",
              "      <th>low</th>\n",
              "      <th>close</th>\n",
              "      <th>volume</th>\n",
              "      <th>company</th>\n",
              "      <th>mean_volume</th>\n",
              "    </tr>\n",
              "  </thead>\n",
              "  <tbody>\n",
              "    <tr>\n",
              "      <th>0</th>\n",
              "      <td>20090821</td>\n",
              "      <td>A</td>\n",
              "      <td>25.60</td>\n",
              "      <td>25.6100</td>\n",
              "      <td>25.220</td>\n",
              "      <td>25.55</td>\n",
              "      <td>0.989125</td>\n",
              "      <td>Agilent Technologies</td>\n",
              "      <td>35140.146939</td>\n",
              "    </tr>\n",
              "    <tr>\n",
              "      <th>1</th>\n",
              "      <td>20090824</td>\n",
              "      <td>A</td>\n",
              "      <td>25.64</td>\n",
              "      <td>25.7400</td>\n",
              "      <td>25.330</td>\n",
              "      <td>25.50</td>\n",
              "      <td>0.633094</td>\n",
              "      <td>Agilent Technologies</td>\n",
              "      <td>35140.146939</td>\n",
              "    </tr>\n",
              "    <tr>\n",
              "      <th>2</th>\n",
              "      <td>20090825</td>\n",
              "      <td>A</td>\n",
              "      <td>25.50</td>\n",
              "      <td>25.7000</td>\n",
              "      <td>25.225</td>\n",
              "      <td>25.34</td>\n",
              "      <td>0.879080</td>\n",
              "      <td>Agilent Technologies</td>\n",
              "      <td>35140.146939</td>\n",
              "    </tr>\n",
              "    <tr>\n",
              "      <th>3</th>\n",
              "      <td>20090826</td>\n",
              "      <td>A</td>\n",
              "      <td>25.32</td>\n",
              "      <td>25.6425</td>\n",
              "      <td>25.145</td>\n",
              "      <td>25.48</td>\n",
              "      <td>0.948602</td>\n",
              "      <td>Agilent Technologies</td>\n",
              "      <td>35140.146939</td>\n",
              "    </tr>\n",
              "    <tr>\n",
              "      <th>4</th>\n",
              "      <td>20090827</td>\n",
              "      <td>A</td>\n",
              "      <td>25.50</td>\n",
              "      <td>25.5700</td>\n",
              "      <td>25.230</td>\n",
              "      <td>25.54</td>\n",
              "      <td>1.997032</td>\n",
              "      <td>Agilent Technologies</td>\n",
              "      <td>35140.146939</td>\n",
              "    </tr>\n",
              "    <tr>\n",
              "      <th>...</th>\n",
              "      <td>...</td>\n",
              "      <td>...</td>\n",
              "      <td>...</td>\n",
              "      <td>...</td>\n",
              "      <td>...</td>\n",
              "      <td>...</td>\n",
              "      <td>...</td>\n",
              "      <td>...</td>\n",
              "      <td>...</td>\n",
              "    </tr>\n",
              "    <tr>\n",
              "      <th>122569</th>\n",
              "      <td>20100813</td>\n",
              "      <td>ZMH</td>\n",
              "      <td>51.72</td>\n",
              "      <td>51.9000</td>\n",
              "      <td>51.380</td>\n",
              "      <td>51.44</td>\n",
              "      <td>0.722313</td>\n",
              "      <td>NaN</td>\n",
              "      <td>20158.840816</td>\n",
              "    </tr>\n",
              "    <tr>\n",
              "      <th>122570</th>\n",
              "      <td>20100816</td>\n",
              "      <td>ZMH</td>\n",
              "      <td>51.13</td>\n",
              "      <td>51.4700</td>\n",
              "      <td>50.600</td>\n",
              "      <td>51.00</td>\n",
              "      <td>0.669136</td>\n",
              "      <td>NaN</td>\n",
              "      <td>20158.840816</td>\n",
              "    </tr>\n",
              "    <tr>\n",
              "      <th>122571</th>\n",
              "      <td>20100817</td>\n",
              "      <td>ZMH</td>\n",
              "      <td>51.14</td>\n",
              "      <td>51.6000</td>\n",
              "      <td>50.890</td>\n",
              "      <td>51.21</td>\n",
              "      <td>1.016824</td>\n",
              "      <td>NaN</td>\n",
              "      <td>20158.840816</td>\n",
              "    </tr>\n",
              "    <tr>\n",
              "      <th>122572</th>\n",
              "      <td>20100819</td>\n",
              "      <td>ZMH</td>\n",
              "      <td>51.63</td>\n",
              "      <td>51.6300</td>\n",
              "      <td>50.170</td>\n",
              "      <td>50.22</td>\n",
              "      <td>0.905756</td>\n",
              "      <td>NaN</td>\n",
              "      <td>20158.840816</td>\n",
              "    </tr>\n",
              "    <tr>\n",
              "      <th>122573</th>\n",
              "      <td>20100820</td>\n",
              "      <td>ZMH</td>\n",
              "      <td>50.03</td>\n",
              "      <td>50.5500</td>\n",
              "      <td>49.480</td>\n",
              "      <td>49.82</td>\n",
              "      <td>0.882590</td>\n",
              "      <td>NaN</td>\n",
              "      <td>20158.840816</td>\n",
              "    </tr>\n",
              "  </tbody>\n",
              "</table>\n",
              "<p>122574 rows × 9 columns</p>\n",
              "</div>"
            ],
            "text/plain": [
              "            date ticker   open  ...    volume               company   mean_volume\n",
              "0       20090821      A  25.60  ...  0.989125  Agilent Technologies  35140.146939\n",
              "1       20090824      A  25.64  ...  0.633094  Agilent Technologies  35140.146939\n",
              "2       20090825      A  25.50  ...  0.879080  Agilent Technologies  35140.146939\n",
              "3       20090826      A  25.32  ...  0.948602  Agilent Technologies  35140.146939\n",
              "4       20090827      A  25.50  ...  1.997032  Agilent Technologies  35140.146939\n",
              "...          ...    ...    ...  ...       ...                   ...           ...\n",
              "122569  20100813    ZMH  51.72  ...  0.722313                   NaN  20158.840816\n",
              "122570  20100816    ZMH  51.13  ...  0.669136                   NaN  20158.840816\n",
              "122571  20100817    ZMH  51.14  ...  1.016824                   NaN  20158.840816\n",
              "122572  20100819    ZMH  51.63  ...  0.905756                   NaN  20158.840816\n",
              "122573  20100820    ZMH  50.03  ...  0.882590                   NaN  20158.840816\n",
              "\n",
              "[122574 rows x 9 columns]"
            ]
          },
          "metadata": {},
          "execution_count": 115
        }
      ]
    },
    {
      "cell_type": "code",
      "metadata": {
        "id": "KMG2KoVs-rWV"
      },
      "source": [
        ""
      ],
      "execution_count": null,
      "outputs": []
    }
  ]
}